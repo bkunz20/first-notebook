{
 "cells": [
  {
   "cell_type": "markdown",
   "id": "22c3ab29-7fcf-491f-a23b-2464168317ea",
   "metadata": {},
   "source": [
    "# Data Science Tools and Ecosysytem"
   ]
  },
  {
   "cell_type": "markdown",
   "id": "17ece939-6269-4939-80ea-a2127fdcee1c",
   "metadata": {},
   "source": [
    "# In this notebook, Data Science Tools and Ecosystem"
   ]
  },
  {
   "cell_type": "markdown",
   "id": "84c73978-33bd-4fca-bdd8-7c00206429a0",
   "metadata": {},
   "source": [
    "**Objectives:**\n",
    "* R\n",
    "* SQL\n",
    "* Python"
   ]
  },
  {
   "cell_type": "markdown",
   "id": "7764e3db-775d-466c-a933-900981d45968",
   "metadata": {},
   "source": [
    "Some of the popular languages that Data Scientist use are:\n",
    "R\n",
    "SQL\n",
    "Python"
   ]
  },
  {
   "cell_type": "markdown",
   "id": "6bf359de-e5d2-41c3-a039-2bc47a369f9e",
   "metadata": {},
   "source": [
    "Some of the commonly used libraries used by DMatata Scientists include:\n",
    "Matplotlib, NumPy, SciPy"
   ]
  },
  {
   "cell_type": "markdown",
   "id": "da8ee243-13ff-4eee-879e-7af32794a904",
   "metadata": {},
   "source": [
    "| Data Science Tools |\n",
    "| ------------------ |\n",
    "| Jupyter Notebook |\n",
    "| Rstudio |\n",
    "| Apache Spark |"
   ]
  },
  {
   "cell_type": "markdown",
   "id": "960b8019-f9de-49a0-b27c-7fbe637421be",
   "metadata": {},
   "source": [
    "### Below are a few examples of evaluating arithmetic expressions in Python\n"
   ]
  },
  {
   "cell_type": "code",
   "execution_count": 24,
   "id": "3fafbfc3-717b-46be-8cc0-990c790397c5",
   "metadata": {},
   "outputs": [],
   "source": [
    "# This is a simple arithmetic experession to multiply then add integers"
   ]
  },
  {
   "cell_type": "code",
   "execution_count": 26,
   "id": "f959056b-4faa-4b4e-95b6-f44fc973d75a",
   "metadata": {},
   "outputs": [
    {
     "data": {
      "text/plain": [
       "17"
      ]
     },
     "execution_count": 26,
     "metadata": {},
     "output_type": "execute_result"
    }
   ],
   "source": [
    "(3*4) + 5"
   ]
  },
  {
   "cell_type": "code",
   "execution_count": 28,
   "id": "272b11fe-ef55-45fb-ad43-0e4953282222",
   "metadata": {},
   "outputs": [],
   "source": [
    "# This will covert 200 minutes to hours by dividing by 60"
   ]
  },
  {
   "cell_type": "code",
   "execution_count": 30,
   "id": "6b7ea185-a932-4cf3-a096-8ec27c2d001b",
   "metadata": {},
   "outputs": [
    {
     "data": {
      "text/plain": [
       "3.3333333333333335"
      ]
     },
     "execution_count": 30,
     "metadata": {},
     "output_type": "execute_result"
    }
   ],
   "source": [
    "200/60"
   ]
  },
  {
   "cell_type": "markdown",
   "id": "9be0c7f4-85c1-41b2-83db-77d28ca5a52b",
   "metadata": {},
   "source": [
    "## Author \n",
    "Blake"
   ]
  },
  {
   "cell_type": "code",
   "execution_count": null,
   "id": "1b8cf2e1-8a60-4469-ab51-90a2c796f275",
   "metadata": {},
   "outputs": [],
   "source": []
  }
 ],
 "metadata": {
  "kernelspec": {
   "display_name": "Python 3 (ipykernel)",
   "language": "python",
   "name": "python3"
  },
  "language_info": {
   "codemirror_mode": {
    "name": "ipython",
    "version": 3
   },
   "file_extension": ".py",
   "mimetype": "text/x-python",
   "name": "python",
   "nbconvert_exporter": "python",
   "pygments_lexer": "ipython3",
   "version": "3.12.4"
  }
 },
 "nbformat": 4,
 "nbformat_minor": 5
}
